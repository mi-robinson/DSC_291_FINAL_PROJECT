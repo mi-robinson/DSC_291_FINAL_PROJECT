{
 "cells": [
  {
   "cell_type": "code",
   "execution_count": null,
   "id": "e525658f",
   "metadata": {},
   "outputs": [],
   "source": [
    "%matplotlib inline\n"
   ]
  },
  {
   "cell_type": "code",
   "execution_count": null,
   "id": "e8f00dd0",
   "metadata": {},
   "outputs": [],
   "source": [
    "from pyLDLE2 import datasets\n",
    "from pyLDLE2 import ldle_\n",
    "import numpy as np\n",
    "from umap import UMAP\n",
    "from pyLDLE2 import visualize_\n",
    "from matplotlib import pyplot as plt\n",
    "import pandas as pd\n",
    "import csv\n",
    "from sklearn.decomposition import PCA\n",
    "import pickle\n",
    "from pyLDLE2 import visualize_all\n",
    "from sklearn.manifold import LocallyLinearEmbedding\n",
    "from sklearn.manifold import TSNE\n",
    "import flameplot as flameplot\n",
    "from scipy.spatial import distance\n"
   ]
  },
  {
   "cell_type": "markdown",
   "id": "0a5c0bd5",
   "metadata": {},
   "source": [
    "## READ IN CSV"
   ]
  },
  {
   "cell_type": "code",
   "execution_count": null,
   "id": "df185774",
   "metadata": {},
   "outputs": [],
   "source": [
    "### read in gene expression data (first 50 PC's)\n",
    "with open('use.csv', 'rt') as f:\n",
    "    reader = csv.reader(f)\n",
    "    data_as_list = list(reader)\n",
    "    \n",
    "# read in cluster data (specific genes -- to visualize spatial locations)\n",
    "with open('for_analysis.csv', 'rt') as f:\n",
    "    reader = csv.reader(f, quoting = csv.QUOTE_NONNUMERIC)\n",
    "    master = list(reader)\n",
    "\n",
    "with open('vartab_ex1.csv', 'rt') as f:\n",
    "    reader = csv.reader(f, quoting = csv.QUOTE_NONNUMERIC)\n",
    "    grid_cell_data = list(reader)\n",
    "    \n",
    "\n",
    "grid_cell_data\n",
    "    \n",
    "    \n",
    "### convert to np array\n",
    "rna_seq_data = np.asarray(data_as_list)\n",
    "master = np.array(master)\n",
    "rna_seq_data = rna_seq_data.astype(float)\n",
    "\n",
    "grid_cell_data = np.asarray(grid_cell_data)\n",
    "grid_cell_data = grid_cell_data.astype(float)\n",
    "# grid_cell_data"
   ]
  },
  {
   "cell_type": "markdown",
   "id": "f0ae2320",
   "metadata": {},
   "source": [
    "## EDIT DIRECTORIES FOR SAVING"
   ]
  },
  {
   "cell_type": "code",
   "execution_count": null,
   "id": "ba636732",
   "metadata": {},
   "outputs": [],
   "source": [
    "save_dir_root = 'C:\\\\Users\\mirob\\\\Documents\\\\MORPH\\\\data\\\\LDLE\\\\rna\\\\' # where to save visualizations n stuff\n",
    "dirpath = 'C:\\\\Users\\mirob\\\\Documents\\\\MORPH\\\\' #where obsm.csv is stored or use.csv (I use use.csv)"
   ]
  },
  {
   "cell_type": "markdown",
   "id": "82a37a4b",
   "metadata": {},
   "source": [
    "## RUN LDLE ON RNA SEQUENCING DATA "
   ]
  },
  {
   "cell_type": "code",
   "execution_count": null,
   "id": "7451c6a7",
   "metadata": {},
   "outputs": [],
   "source": [
    "rna_seq_data = rna_seq_data[:,:50] # first 991 PC's explain about 90% of variance, we used 50\n",
    "rna_seq_data.shape\n",
    "labelsMat = rna_seq_data[:,:2] #first two PC's\n",
    "df = pd.DataFrame(rna_seq_data)\n",
    "print(labelsMat)\n",
    "df"
   ]
  },
  {
   "cell_type": "code",
   "execution_count": null,
   "id": "8bc352f3",
   "metadata": {},
   "outputs": [],
   "source": [
    "# optimal hyperparameters \n",
    "delta =  0.25 #0.25 .9\n",
    "tau = 5 #5 50\n",
    "k = 15 \n",
    "k_tune = 7 "
   ]
  },
  {
   "cell_type": "code",
   "execution_count": null,
   "id": "4cf3e51e",
   "metadata": {},
   "outputs": [],
   "source": [
    "# 'refine_algo_name': I am using gpa for rna seq data, not much difference for rgd\n",
    "ldle_rna = ldle_.LDLE(local_opts={'algo':'LDLE', 'k':k, 'N': 25, 'k_nn':15 , 'delta':delta, 'tau':tau, 'k_tune':k_tune},\n",
    "                  intermed_opts={'eta_min': 3, 'algo': 'mnm'},\n",
    "                  global_opts={'alpha':0.01, \"max_iter\": 10, 'to_tear': False, 'color_tear': False, 'refine_algo_name': 'gpa'},\n",
    "                  vis_opts={'cmap_interior': 'jet','cmap_boundary': 'jet','c': labelsMat[:,0], 'save_dir': save_dir_root},\n",
    "                  verbose=True, debug=True)"
   ]
  },
  {
   "cell_type": "code",
   "execution_count": null,
   "id": "beb027f0",
   "metadata": {
    "scrolled": false
   },
   "outputs": [],
   "source": [
    "ldle_rna.fit(X=rna_seq_data)"
   ]
  },
  {
   "cell_type": "markdown",
   "id": "054853a5",
   "metadata": {},
   "source": [
    "## ADDITIONAL VISUALIZATIONS"
   ]
  },
  {
   "cell_type": "code",
   "execution_count": null,
   "id": "6460b096",
   "metadata": {},
   "outputs": [],
   "source": [
    "# # PATH TO SAVE VISUALIZATIONS\n",
    "# save_path = save_dir_root+'/ldle_rna.dat'\n",
    "# with open(save_path, \"wb\") as f:\n",
    "#     pickle.dump([X, labelsMat*0, ldle2], f)\n",
    "# print('Saved', save_path)\n",
    "\n",
    "# DEFINE PATH TO SAVE ADDITIONAL EMBEDDINGS \n",
    "vis = visualize_.Visualize('C:\\\\Users\\mirob\\\\Documents\\\\MORPH\\\\data\\\\LDLE\\\\additional_embeddings_rna\\\\')"
   ]
  },
  {
   "cell_type": "code",
   "execution_count": null,
   "id": "95525632",
   "metadata": {},
   "outputs": [],
   "source": [
    "# VISUALIZE ALL \n",
    "# visualize_all.visualize('C:\\\\Users\\mirob\\\\Documents\\\\MORPH\\\\data\\\\LDLE\\\\cluster\\\\ldle_rna.dat')"
   ]
  },
  {
   "cell_type": "code",
   "execution_count": null,
   "id": "176ab865",
   "metadata": {
    "scrolled": false
   },
   "outputs": [],
   "source": [
    "# PCA\n",
    "plt.scatter(labelsMat[:,0],labelsMat[:,1], c=labelsMat[:,0], cmap='jet')\n",
    "plt.title(\"PCA\")\n",
    "plt.xlabel(\"PC 1\")\n",
    "plt.ylabel(\"PC 2\")"
   ]
  },
  {
   "cell_type": "code",
   "execution_count": null,
   "id": "d0951441",
   "metadata": {},
   "outputs": [],
   "source": []
  },
  {
   "cell_type": "code",
   "execution_count": null,
   "id": "66b82fae",
   "metadata": {
    "scrolled": false
   },
   "outputs": [],
   "source": [
    "# UMAP: N_NEIGHBORS = 50; MIN_DIST = 0.25 (AFTER HYPER-PARAMETER TUNING)\n",
    "n_neighbors = 60\n",
    "min_dist = 0.25\n",
    "print(n_neighbors, min_dist)\n",
    "umap_obj = UMAP(n_neighbors=n_neighbors, min_dist=min_dist, n_components=2,\n",
    "                random_state=42, n_epochs=500, metric='euclidean')\n",
    "y_umap = umap_obj.fit_transform(rna_seq_data)\n",
    "#         vis.global_embedding(y_umap, master[:,3], 'Blues', title='UMAP0_'+str(n_neighbors)+'_'+str(min_dist))\n",
    "#         plt.show()\n",
    "vis.global_embedding(y_umap, labelsMat[:,0], 'jet', title='UMAP1_'+str(n_neighbors)+'_'+str(min_dist))\n",
    "plt.show()"
   ]
  },
  {
   "cell_type": "code",
   "execution_count": null,
   "id": "2a7bab30",
   "metadata": {},
   "outputs": [],
   "source": [
    "# TSNE: PERPLEXITY = 60, EE = 4 (AFTER HYPERPARAMETER TUNING )\n",
    "\n",
    "perplexity = 60\n",
    "ee = 4\n",
    "print(perplexity, ee)\n",
    "tsne_obj = TSNE(perplexity=perplexity, early_exaggeration=ee, n_components=2,\n",
    "                metric='euclidean', random_state=42, n_iter=1000,\n",
    "                n_jobs=-1, init='random')\n",
    "y_tsne = tsne_obj.fit_transform(rna_seq_data)\n",
    "vis.global_embedding(y_tsne, labelsMat[:,0], 'jet', title='t-SNE0_'+str(perplexity)+'_'+str(ee))\n",
    "plt.show()"
   ]
  },
  {
   "cell_type": "code",
   "execution_count": null,
   "id": "3e6a0bbd",
   "metadata": {},
   "outputs": [],
   "source": [
    "# llE: N_NEIGHBORS = 100 (AFTER HYPERPARAMETER TUNING)\n",
    "n_neighbors = 100\n",
    "print(n_neighbors)\n",
    "ltsa_obj = LocallyLinearEmbedding(method='standard', n_neighbors=n_neighbors, eigen_solver = 'dense',\n",
    "                                  n_components=2)#, n_jobs=-1, random_state=42)\n",
    "y_ltsa = ltsa_obj.fit_transform(rna_seq_data)\n",
    "vis.global_embedding(y_ltsa, labelsMat[:,0], 'jet', title='LLE0_'+str(n_neighbors))\n",
    "#     plt.savefig('LLE_1_TRANS.png', format='png', dpi=600, transparent=True)\n",
    "plt.show()"
   ]
  },
  {
   "cell_type": "markdown",
   "id": "d6073d4d",
   "metadata": {},
   "source": [
    "## QUANTITATIVELY MEASURE DISTORTION AS IN LDLE PAPER (this can be optimized but for purpose of project it works)"
   ]
  },
  {
   "cell_type": "code",
   "execution_count": null,
   "id": "f35eb483",
   "metadata": {},
   "outputs": [],
   "source": [
    "# ## UNCOMMENT TO: check distortion measurement (and code) works\n",
    "# ## (if new embedding is a scalar of first, distortion should be 1)\n",
    "# F = np.random.rand(10,9)\n",
    "# F2 = 2.4*F\n",
    "# DF = distance.squareform(distance.pdist(F))\n",
    "# DF2 = distance.squareform(distance.pdist(F2))\n",
    "# C  = np.sort(DF, axis=1)\n",
    "# C2  = np.sort(DF2, axis=1)\n",
    "# KNN = C[:,1:k+1]\n",
    "# KNN2 = C2[:,1:k+1]\n",
    "# Dk_num = np.divide(KNN,KNN2)\n",
    "# Dk_den = np.divide(KNN2,KNN)\n",
    "# Dk_num\n",
    "# y_upper = np.amax(Dk_num,1)\n",
    "# y_upper2 = np.amax(Dk_den,1)\n",
    "# sam = y_upper*y_upper2\n",
    "# sam"
   ]
  },
  {
   "cell_type": "code",
   "execution_count": null,
   "id": "fcf1dd3a",
   "metadata": {},
   "outputs": [],
   "source": [
    "D = distance.squareform(distance.pdist(grid_cell_data)) #if square data, change to square_data\n",
    "# print(np.round(D, 1))\n",
    "Du = distance.squareform(distance.pdist(y_umap))\n",
    "# print(np.round(Du, 1))\n",
    "Dt = distance.squareform(distance.pdist(y_tsne))\n",
    "# print(np.round(Dt, 1))\n",
    "Dl = distance.squareform(distance.pdist(y_ltsa))\n",
    "# print(np.round(Dl, 1))\n",
    "Dp = distance.squareform(distance.pdist(labelsMat)) #make sure you have PCA of rna or square run first\n",
    "# print(np.round(Dp, 1))\n",
    "Dld = distance.squareform(distance.pdist(ldle_grid.GlobalViews.y_init)) #if square data, change to ldle_square\n",
    "# print(np.round(Dld,1))"
   ]
  },
  {
   "cell_type": "code",
   "execution_count": null,
   "id": "0f7d4dd8",
   "metadata": {},
   "outputs": [],
   "source": [
    "closest = np.sort(D, axis=1)\n",
    "# print(closest)\n",
    "closestu = np.sort(Du,axis=1)\n",
    "# print(closestu)\n",
    "closestt = np.sort(Dt,axis=1)\n",
    "# print(closestt)\n",
    "closestl = np.sort(Dl,axis=1)\n",
    "# print(closestl)\n",
    "closestp = np.sort(Dp,axis=1)\n",
    "# print(closestp)\n",
    "closestld = np.sort(Dld, axis=1)"
   ]
  },
  {
   "cell_type": "code",
   "execution_count": null,
   "id": "cf609dfa",
   "metadata": {},
   "outputs": [],
   "source": [
    "k = 100  # For each point, find the 100 closest points (or whatever #, doesn't matter)\n",
    "knn_u= closestu[:,1:k+1]\n",
    "knn = closest[:,1:k+1]\n",
    "knn_t = closestt[:,1:k+1]\n",
    "knn_l = closestl[:,1:k+1]\n",
    "knn_p = closestp[:,1:k+1]\n",
    "knn_ld = closestld[:,1:k+1]"
   ]
  },
  {
   "cell_type": "code",
   "execution_count": null,
   "id": "e233e0b6",
   "metadata": {},
   "outputs": [],
   "source": [
    "#LDLE VS OG\n",
    "Dk_num = np.divide(knn_ld,knn)\n",
    "Dk_den = np.divide(knn,knn_ld)\n",
    "y_upper = np.amax(Dk_num,0)\n",
    "y_upper2 = np.amax(Dk_den,0)\n",
    "ldle_dk = y_upper*y_upper2\n",
    "ldle_dk=ldle_dk\n",
    "ldle_dk"
   ]
  },
  {
   "cell_type": "code",
   "execution_count": null,
   "id": "a7b20d0c",
   "metadata": {},
   "outputs": [],
   "source": [
    "#UMAP VS OG\n",
    "Dk_num = np.divide(knn_u,knn)\n",
    "Dk_den = np.divide(knn,knn_u)\n",
    "y_upper = np.amax(Dk_num,0)\n",
    "y_upper2 = np.amax(Dk_den,0)\n",
    "umap_dk = y_upper*y_upper2\n",
    "umap_dk=umap_dk\n",
    "umap_dk.shape\n"
   ]
  },
  {
   "cell_type": "code",
   "execution_count": null,
   "id": "d10ddb51",
   "metadata": {},
   "outputs": [],
   "source": [
    "#TSNE VS OG\n",
    "Dk_num = np.divide(knn_t,knn)\n",
    "Dk_den = np.divide(knn,knn_t)\n",
    "y_upper = np.amax(Dk_num,0)\n",
    "y_upper2 = np.amax(Dk_den,0)\n",
    "tsne_dk = y_upper*y_upper2\n",
    "tsne_dk= tsne_dk\n",
    "tsne_dk"
   ]
  },
  {
   "cell_type": "code",
   "execution_count": null,
   "id": "88835f68",
   "metadata": {},
   "outputs": [],
   "source": [
    "#LLE VS OG\n",
    "Dk_num = np.divide(knn_l,knn)\n",
    "Dk_den = np.divide(knn,knn_l)\n",
    "y_upper = np.amax(Dk_num,0)\n",
    "y_upper2 = np.amax(Dk_den,0)\n",
    "lle_dk = y_upper*y_upper2\n",
    "lle_dk = lle_dk"
   ]
  },
  {
   "cell_type": "code",
   "execution_count": null,
   "id": "3c079e82",
   "metadata": {},
   "outputs": [],
   "source": [
    "#PCA VS OG\n",
    "Dk_num = np.divide(knn_p,knn)\n",
    "Dk_den = np.divide(knn,knn_p)\n",
    "y_upper = np.amax(Dk_num,0)\n",
    "y_upper2 = np.amax(Dk_den,0)\n",
    "pca_dk = y_upper*y_upper2\n",
    "pca_dk = pca_dk"
   ]
  },
  {
   "cell_type": "code",
   "execution_count": null,
   "id": "a082f63b",
   "metadata": {},
   "outputs": [],
   "source": []
  },
  {
   "cell_type": "code",
   "execution_count": null,
   "id": "74d84742",
   "metadata": {
    "scrolled": false
   },
   "outputs": [],
   "source": [
    "import seaborn as sns\n",
    "# g = sns.violinplot(umap_dk,cut=0)\n",
    "# g.set(xlim=(0, None))\n",
    "fig, ax = plt.subplots()\n",
    "sns.set(rc={'figure.figsize':(8.7,7.27)})\n",
    "sns.set(font_scale = 1.5)\n",
    "sns.set_style('white', rc={\n",
    "    'xtick.bottom': True,\n",
    "    'ytick.left': False,\n",
    "})\n",
    "sns.set_style('ticks') \n",
    "labels = [\"PCA\", \"UMAP\",'LLE', 'tSNE', 'LDLE']\n",
    "for i,arr in enumerate([pca_dk, umap_dk, lle_dk, tsne_dk,ldle_dk]):\n",
    "    ax.violinplot(dataset=arr,positions=[i], showmedians=True, widths=0.8)\n",
    "    plt.yscale(\"log\") # for visualization purposes\n",
    "#     plt.ylim(4000)\n",
    "#     plt.ylabel()\n",
    "    plt.title(\"Distortion (100 KNN)\")\n",
    "    print(np.median(arr))\n",
    "    \n",
    "    \n",
    "ax.set(xticklabels=[\"filler\", \"PCA\", \"UMAP\",'LLE', 'tSNE', 'LDLE'])\n",
    "\n",
    "\n",
    "for i, arr in enumerate([pca_dk, umap_dk, lle_dk, tsne_dk,ldle_dk]):\n",
    "    if i == 0:\n",
    "        continue\n",
    "    if i == 2:\n",
    "        continue\n",
    "# #     if i == 3:\n",
    "#         continue\n",
    "#     else:\n",
    "    median = np.median(arr)\n",
    "    maximum = np.max(arr)\n",
    "    minimum = np.min(arr)\n",
    "    plt.text((i-0.15), (median + .1), str(round(median, 2)), fontsize = 12)\n",
    "    plt.text((i-0.15), (maximum), str(round(maximum, 2)), fontsize = 12)    \n",
    "    plt.text((i-0.15), (minimum+np.log(.7)), str(round(minimum, 2)), fontsize = 12)\n",
    "        \n",
    "# for i, arr in enumerate([pca_dk, umap_dk, lle_dk, tsne_dk,ldle_dk]):\n",
    "#     if i == 0:\n",
    "#         continue\n",
    "#     if i == 2:\n",
    "#         continue\n",
    "#     if i == 4:\n",
    "#         continue\n",
    "#     else:\n",
    "#         median = np.median(arr)\n",
    "#         maximum = np.max(arr)\n",
    "#         minimum = np.min(arr)\n",
    "#         plt.text((i\"-0.15), (median+1), str(round(median, 2)), fontsize = 12)\n",
    "#         plt.text((i-0.2), (maximum+20), str(round(maximum, 2)), fontsize = 12)    \n",
    "#         plt.text((i-0.1), (minimum+np.log(.3)), str(round(minimum, 2)), fontsize = 12)\n",
    "        \n",
    "# for i, arr in enumerate([pca_dk, umap_dk, lle_dk, tsne_dk,ldle_dk]):\n",
    "#     if i == 0:\n",
    "#         continue\n",
    "#     if i == 1:\n",
    "#         continue\n",
    "#     if i == 2:\n",
    "#         continue\n",
    "#     if i == 3:\n",
    "#         continue\n",
    "#     else:\n",
    "#         median = np.median(arr)\n",
    "#         maximum = np.max(arr)\n",
    "#         minimum = np.min(arr)\n",
    "#         plt.text((i-0.15), (median+1), str(round(median, 2)), fontsize = 12)\n",
    "#         plt.text((i-0.2), (maximum+20), str(round(maximum, 2)), fontsize = 12)    \n",
    "#         plt.text((i-.15), (minimum+np.log(.05)), str(round(minimum, 2)), fontsize = 12)"
   ]
  },
  {
   "cell_type": "markdown",
   "id": "2a4cdd6c",
   "metadata": {},
   "source": [
    "## QUALITATIVE MEASUREMENT OF DISTORTION:\n",
    "# DONT RUN UNLESS YOU HAVE TO -- TAKES FOREVER"
   ]
  },
  {
   "cell_type": "code",
   "execution_count": null,
   "id": "dca36d96",
   "metadata": {
    "scrolled": true
   },
   "outputs": [],
   "source": [
    "# # Quantify UMAP vs. tSNE\n",
    "scores1 = flameplot.compare(y_umap, y_tsne, n_steps=20)\n",
    "# # Quantify UMAP vs. LDLE\n",
    "scores2 = flameplot.compare(y_umap, ldle_grid.GlobalViews.y_final, n_steps=20)\n",
    "# # Quantify LDLE vs. tSNE\n",
    "scores3 = flameplot.compare(ldle_grid.GlobalViews.y_final, y_tsne, n_steps=20)\n",
    "\n",
    "# # Plot\n",
    "fig, ax = flameplot.plot(scores1, xlabel='UMAP (2D)', ylabel='tSNE (2D)')\n",
    "fig, ax = flameplot.plot(scores2, xlabel='UMAP (2D)', ylabel='LDLE (2D)')\n",
    "fig, ax = flameplot.plot(scores3, xlabel='LDLE (2D)', ylabel='tSNE (2D)')"
   ]
  },
  {
   "cell_type": "code",
   "execution_count": null,
   "id": "fad4201c",
   "metadata": {
    "scrolled": true
   },
   "outputs": [],
   "source": [
    "# Quantify LDLE vs. LLE\n",
    "scores1 = flameplot.compare(ldle_grid.GlobalViews.y_final, y_ltsa, n_steps=20)\n",
    "# Quantify LDLE vs. PCA\n",
    "scores2 = flameplot.compare(ldle_grid.GlobalViews.y_final, labelsMat, n_steps=20)\n",
    "# # Quantify LLE vs. PCA\n",
    "scores3 = flameplot.compare(y_ltsa, labelsMat, n_steps=20)\n",
    "\n",
    "# Plot\n",
    "fig, ax = flameplot.plot(scores1, xlabel='LDLE (2D)', ylabel='LLE (2D)')\n",
    "fig, ax = flameplot.plot(scores2, xlabel='LDLE (2D)', ylabel='PCA (2D)')\n",
    "fig, ax = flameplot.plot(scores3, xlabel='LLE (2D)', ylabel='PCA (2D)')"
   ]
  },
  {
   "cell_type": "code",
   "execution_count": null,
   "id": "300b1fb1",
   "metadata": {
    "scrolled": true
   },
   "outputs": [],
   "source": [
    "# import flameplot as flameplot\n",
    "\n",
    "# Quantify PCA vs. tSNE\n",
    "scores1 = flameplot.compare(labelsMat, y_tsne, n_steps=50)\n",
    "# Quantify PCA vs. UMAP\n",
    "scores2 = flameplot.compare(labelsMat, y_umap, n_steps=50)\n",
    "# # Quantify LLE vs. tSNE\n",
    "scores3 = flameplot.compare(y_ltsa, y_tsne, n_steps=50)\n",
    "# # Quantify LLE vs. UMAP\n",
    "scores4 = flameplot.compare(y_ltsa, y_umap, n_steps=50)\n",
    "\n",
    "# Plot\n",
    "fig, ax = flameplot.plot(scores1, xlabel='PCA (2D)', ylabel='tSNE (2D)')\n",
    "fig, ax = flameplot.plot(scores2, xlabel='PCA (2D)', ylabel='UMAP (2D)')\n",
    "fig, ax = flameplot.plot(scores3, xlabel='LLE (2D)', ylabel='tSNE (2D)')\n",
    "fig, ax = flameplot.plot(scores4, xlabel='LLE (2D)', ylabel='UMAP (2D)')"
   ]
  },
  {
   "cell_type": "code",
   "execution_count": null,
   "id": "6e38be13",
   "metadata": {
    "scrolled": false
   },
   "outputs": [],
   "source": [
    "# # import flameplot as flameplot\n",
    "\n",
    "# Quantify LDLE vs. X\n",
    "scores1 = flameplot.compare(ldle_grid.GlobalViews.y_init, grid_cell_data, n_steps=20)\n",
    "# Quantify UMAP vs. X\n",
    "scores2 = flameplot.compare(y_umap, grid_cell_data, n_steps=20)\n",
    "# # Quantify tSNE vs. X\n",
    "scores3 = flameplot.compare(y_tsne, grid_cell_data, n_steps=20)\n",
    "# # Quantify LLE vs. X\n",
    "scores4 = flameplot.compare(y_ltsa, grid_cell_data, n_steps=20)\n",
    "# # Quantify PCA vs. X\n",
    "scores5 = flameplot.compare(labelsMat, grid_cell_data, n_steps=20)\n",
    "\n",
    "# Plot\n",
    "fig, ax = flameplot.plot(scores1, xlabel='LDLE (2D)', ylabel='X (50D)')\n",
    "fig, ax = flameplot.plot(scores2, xlabel='UMAP (2D)', ylabel='X (50D)')\n",
    "fig, ax = flameplot.plot(scores3, xlabel='tSNE (2D)', ylabel='X (50D)')\n",
    "fig, ax = flameplot.plot(scores4, xlabel='LLE (2D)', ylabel='X (50D)')\n",
    "fig, ax = flameplot.plot(scores5, xlabel='PCA (2D)', ylabel='X (50D)')"
   ]
  },
  {
   "cell_type": "markdown",
   "id": "a5bbed01",
   "metadata": {},
   "source": [
    "# SQUARE WITH TWO HOLES\n",
    "## run LDLE"
   ]
  },
  {
   "cell_type": "code",
   "execution_count": null,
   "id": "ce5ca6d2",
   "metadata": {
    "scrolled": true
   },
   "outputs": [],
   "source": [
    "square_data, labelsMat, ddX = datasets.Datasets().squarewithtwoholes()\n",
    "# labelsMat\n",
    "square_data"
   ]
  },
  {
   "cell_type": "code",
   "execution_count": null,
   "id": "04fb5ccf",
   "metadata": {},
   "outputs": [],
   "source": [
    "# print(square_data)\n",
    "# vartab_ex1"
   ]
  },
  {
   "cell_type": "code",
   "execution_count": null,
   "id": "3a2f03c3",
   "metadata": {
    "scrolled": true
   },
   "outputs": [],
   "source": [
    "# The supplied options would override the default options\n",
    "ldle_square = ldle_.LDLE(local_opts={'algo':'LDLE', 'k': 35},\n",
    "                  intermed_opts={'algo':'mnm', 'eta_min': 3},\n",
    "                  global_opts={'max_iter': 8},\n",
    "                  vis_opts={'c': labelsMat[:,0],'save_dir': save_dir_root},\n",
    "                  verbose=True, debug=True)"
   ]
  },
  {
   "cell_type": "code",
   "execution_count": null,
   "id": "8b1d5394",
   "metadata": {
    "scrolled": false
   },
   "outputs": [],
   "source": [
    "ldle_square.fit(X=square_data)"
   ]
  },
  {
   "cell_type": "markdown",
   "id": "5989db88",
   "metadata": {},
   "source": [
    "## ADDITIONAL VISUALIZATIONS"
   ]
  },
  {
   "cell_type": "code",
   "execution_count": null,
   "id": "c6b85355",
   "metadata": {},
   "outputs": [],
   "source": [
    "vis = visualize_.Visualize('C:\\\\Users\\mirob\\\\Documents\\\\MORPH\\\\data\\\\LDLE\\\\additional_embeddings_square\\\\')"
   ]
  },
  {
   "cell_type": "code",
   "execution_count": null,
   "id": "fc3ce328",
   "metadata": {},
   "outputs": [],
   "source": [
    "#PCA\n",
    "# PCA\n",
    "pca = PCA(n_components=2)\n",
    "labelsMat = pca.fit_transform(square_data)\n",
    "plt.scatter(labelsMat[:,0],labelsMat[:,1], c=labelsMat[:,0], cmap='summer')\n",
    "plt.title(\"PCA\")\n",
    "plt.xlabel(\"PC 1\")\n",
    "plt.ylabel(\"PC 2\")\n"
   ]
  },
  {
   "cell_type": "code",
   "execution_count": null,
   "id": "9e23262a",
   "metadata": {},
   "outputs": [],
   "source": [
    "pca.explained_variance_ratio_"
   ]
  },
  {
   "cell_type": "code",
   "execution_count": null,
   "id": "f247d3cd",
   "metadata": {},
   "outputs": [],
   "source": [
    "#UMAP\n",
    "n_neighbors = 50\n",
    "min_dist = 0.25\n",
    "print(n_neighbors, min_dist)\n",
    "umap_obj = UMAP(n_neighbors=n_neighbors, min_dist=min_dist, n_components=2,\n",
    "                random_state=42, n_epochs=500, metric='euclidean')\n",
    "y_umap = umap_obj.fit_transform(square_data)\n",
    "#         vis.global_embedding(y_umap, master[:,3], 'Blues', title='UMAP0_'+str(n_neighbors)+'_'+str(min_dist))\n",
    "#         plt.show()\n",
    "vis.global_embedding(y_umap, labelsMat[:,0], 'summer', title='UMAP1_'+str(n_neighbors)+'_'+str(min_dist))\n",
    "plt.show()"
   ]
  },
  {
   "cell_type": "code",
   "execution_count": null,
   "id": "8849eaa1",
   "metadata": {},
   "outputs": [],
   "source": [
    "#tSNE\n",
    "perplexity = 60\n",
    "ee = 4\n",
    "print(perplexity, ee)\n",
    "tsne_obj = TSNE(perplexity=perplexity, early_exaggeration=ee, n_components=2,\n",
    "                metric='euclidean', random_state=42, n_iter=1000,\n",
    "                n_jobs=-1, init='random')\n",
    "y_tsne = tsne_obj.fit_transform(square_data)\n",
    "vis.global_embedding(y_tsne, labelsMat[:,0], 'summer', title='t-SNE0_'+str(perplexity)+'_'+str(ee))\n",
    "plt.show()\n",
    "#         vis.global_embedding(y_tsne, labelsMat[:,1], 'jet', title='t-SNE1_'+str(perplexity)+'_'+str(ee))\n",
    "#         plt.show()"
   ]
  },
  {
   "cell_type": "code",
   "execution_count": null,
   "id": "70120894",
   "metadata": {},
   "outputs": [],
   "source": [
    "# llE: N_NEIGHBORS = 100 (AFTER HYPERPARAMETER TUNING)\n",
    "n_neighbors = 100\n",
    "print(n_neighbors)\n",
    "ltsa_obj = LocallyLinearEmbedding(method='ltsa', n_neighbors=n_neighbors, eigen_solver = 'dense',\n",
    "                                  n_components=2, n_jobs=-1, random_state=42)\n",
    "y_ltsa = ltsa_obj.fit_transform(square_data)\n",
    "vis.global_embedding(y_ltsa, labelsMat[:,0], 'summer', title='LLE0_'+str(n_neighbors))\n",
    "#     plt.savefig('LLE_1_TRANS.png', format='png', dpi=600, transparent=True)\n",
    "plt.show()"
   ]
  },
  {
   "cell_type": "code",
   "execution_count": null,
   "id": "eff96b69",
   "metadata": {},
   "outputs": [],
   "source": [
    "# Repeat distortion here (from above) if want to quantify distortion on square with two holes"
   ]
  },
  {
   "cell_type": "markdown",
   "id": "ce06f9f5",
   "metadata": {},
   "source": [
    "## GRID CELL"
   ]
  },
  {
   "cell_type": "code",
   "execution_count": null,
   "id": "5ea753c0",
   "metadata": {},
   "outputs": [],
   "source": [
    "save_dir_root = 'C:\\\\Users\\mirob\\\\Documents\\\\MORPH\\\\data\\\\LDLE\\\\grid\\\\' # where to save visualizations n stuff\n",
    "grid_cell_data.shape"
   ]
  },
  {
   "cell_type": "code",
   "execution_count": null,
   "id": "1c9bdb71",
   "metadata": {},
   "outputs": [],
   "source": [
    "plt.scatter(grid_cell_data[:,0],grid_cell_data[:,1],c=grid_cell_data[:,0], cmap='jet')"
   ]
  },
  {
   "cell_type": "code",
   "execution_count": null,
   "id": "de847fd1",
   "metadata": {},
   "outputs": [],
   "source": [
    "pca = PCA(n_components=2)\n",
    "labelsMat = pca.fit_transform(grid_cell_data)\n",
    "plt.scatter(labelsMat[:,0],labelsMat[:,1],c=labelsMat[:,0], cmap='jet')\n",
    "plt.title(\"PCA\")\n",
    "plt.xlabel(\"PC 1 (52.25%)\")\n",
    "plt.ylabel(\"PC 2 (47.75%)\" )"
   ]
  },
  {
   "cell_type": "code",
   "execution_count": null,
   "id": "46404f15",
   "metadata": {},
   "outputs": [],
   "source": [
    "pca.explained_variance_ratio_*100"
   ]
  },
  {
   "cell_type": "code",
   "execution_count": null,
   "id": "91112450",
   "metadata": {},
   "outputs": [],
   "source": []
  },
  {
   "cell_type": "code",
   "execution_count": null,
   "id": "c59dc1a2",
   "metadata": {},
   "outputs": [],
   "source": [
    "# X = grid_cell_data - np.mean(grid_cell_data,axis=0)[np.newaxis,:]\n",
    "# X = X / (np.std(X,axis=0)[np.newaxis,:] + 1e-12)\n",
    "# X_new = X\n",
    "# X_new = X_new / np.max(np.abs(X_new))\n",
    "# plt.scatter(X_new[:,0],X_new[:,1],c=X_new[:,0], cmap='summer')"
   ]
  },
  {
   "cell_type": "code",
   "execution_count": null,
   "id": "e27d3378",
   "metadata": {},
   "outputs": [],
   "source": [
    "min_pose = np.min(labelsMat[:,1])\n",
    "min_light = np.min(labelsMat[:,0])\n",
    "max_pose = np.max(labelsMat[:,1])\n",
    "max_light = np.max(labelsMat[:,0])"
   ]
  },
  {
   "cell_type": "code",
   "execution_count": null,
   "id": "bdc7ee4a",
   "metadata": {},
   "outputs": [],
   "source": [
    "N = grid_cell_data.shape[0]\n",
    "ddX = np.zeros(N)\n",
    "for k in range(N):\n",
    "    ddX1 = np.min([labelsMat[k,0]-min_light, max_light-labelsMat[k,0]])\n",
    "    ddX2 = np.min([labelsMat[k,1]-min_pose, max_pose-labelsMat[k,1]])\n",
    "    ddX[k] = np.min([ddX1, ddX2])"
   ]
  },
  {
   "cell_type": "code",
   "execution_count": null,
   "id": "ae3563fa",
   "metadata": {},
   "outputs": [],
   "source": [
    "# ddX"
   ]
  },
  {
   "cell_type": "code",
   "execution_count": null,
   "id": "0d94d93e",
   "metadata": {},
   "outputs": [],
   "source": [
    "# pca = PCA(n_components=2)\n",
    "# labelsMat = pca.fit_transform(yonatan_nogrid)\n",
    "# # fig = plt.figure(figsize=(12, 12))\n",
    "# # ax = fig.add_subplot(projection='3d')\n",
    "# plt.scatter(labelsMat[:,0],labelsMat[:,1], c=labelsMat[:,0], cmap='summer')\n",
    "# plt.title(\"PCA\")\n",
    "# plt.xlabel(\"PC 1\")\n",
    "# plt.ylabel(\"PC 2\")"
   ]
  },
  {
   "cell_type": "code",
   "execution_count": null,
   "id": "02d08bcb",
   "metadata": {},
   "outputs": [],
   "source": [
    "vis = visualize_.Visualize('C:\\\\Users\\mirob\\\\Documents\\\\MORPH\\\\data\\\\LDLE\\\\additional_embeddings_grid\\\\')\n",
    "n_neighbors = 100\n",
    "# print(grid_cell_data)\n",
    "ltsa_obj = LocallyLinearEmbedding(method='ltsa', n_neighbors=n_neighbors, eigen_solver = 'dense',\n",
    "                                  n_components=2, n_jobs=-1, random_state=42)\n",
    "y_ltsa = ltsa_obj.fit_transform(grid_cell_data)\n",
    "vis.global_embedding(y_ltsa, labelsMat[:,0], 'jet', title='LLE0_'+str(n_neighbors))\n",
    "#     plt.savefig('LLE_1_TRANS.png', format='png', dpi=600, transparent=True)\n",
    "plt.show()"
   ]
  },
  {
   "cell_type": "code",
   "execution_count": null,
   "id": "cc627be1",
   "metadata": {},
   "outputs": [],
   "source": [
    "perplexity = 60\n",
    "ee = 4\n",
    "print(perplexity, ee)\n",
    "tsne_obj = TSNE(perplexity=perplexity, early_exaggeration=ee, n_components=2,\n",
    "                metric='euclidean', random_state=42, n_iter=1000,\n",
    "                n_jobs=-1, init='random')\n",
    "y_tsne = tsne_obj.fit_transform(grid_cell_data)\n",
    "vis.global_embedding(y_tsne, labelsMat[:,0], 'jet', title='t-SNE0_'+str(perplexity)+'_'+str(ee))\n",
    "plt.show()"
   ]
  },
  {
   "cell_type": "code",
   "execution_count": null,
   "id": "cce66a68",
   "metadata": {},
   "outputs": [],
   "source": [
    "n_neighbors = 100\n",
    "min_dist = .9\n",
    "print(n_neighbors, min_dist)\n",
    "umap_obj = UMAP(n_neighbors=n_neighbors, min_dist=min_dist, n_components=2,\n",
    "                random_state=42, n_epochs=500, metric='euclidean')\n",
    "y_umap = umap_obj.fit_transform(grid_cell_data)\n",
    "#         vis.global_embedding(y_umap, master[:,3], 'Blues', title='UMAP0_'+str(n_neighbors)+'_'+str(min_dist))\n",
    "#         plt.show()\n",
    "vis.global_embedding(y_umap, labelsMat[:,0], 'jet', title='UMAP1_'+str(n_neighbors)+'_'+str(min_dist))\n",
    "plt.show()"
   ]
  },
  {
   "cell_type": "code",
   "execution_count": null,
   "id": "87905ccb",
   "metadata": {},
   "outputs": [],
   "source": [
    "# The supplied options would override the default options\n",
    "ldle_grid = ldle_.LDLE(local_opts={'algo':'LDLE', 'k': 10, 'k_nn': 10, 'k_tune':7, \"delta\":.25, \"tau\":20, 'N':15},\n",
    "                  intermed_opts={'algo':'best', 'eta_min': 5},\n",
    "                  global_opts={'max_iter': 8, 'refine_algo_name': 'gpa'},\n",
    "                  vis_opts={'cmap_interior': 'jet', 'cmap_boundary':'jet', 'c': labelsMat[:,0],'save_dir': save_dir_root},\n",
    "                  verbose=True, debug=True)"
   ]
  },
  {
   "cell_type": "code",
   "execution_count": null,
   "id": "8e1cfe19",
   "metadata": {
    "scrolled": false
   },
   "outputs": [],
   "source": [
    "ldle_grid.fit(X=grid_cell_data)"
   ]
  },
  {
   "cell_type": "code",
   "execution_count": null,
   "id": "3168e2a8",
   "metadata": {},
   "outputs": [],
   "source": [
    "ldle_grid.GlobalViews.y_final\n"
   ]
  },
  {
   "cell_type": "code",
   "execution_count": null,
   "id": "a79d9957",
   "metadata": {},
   "outputs": [],
   "source": [
    "ldle_grid.GlobalViews.y_init"
   ]
  },
  {
   "cell_type": "code",
   "execution_count": null,
   "id": "92c21fa7",
   "metadata": {},
   "outputs": [],
   "source": []
  }
 ],
 "metadata": {
  "kernelspec": {
   "display_name": "Python 3 (ipykernel)",
   "language": "python",
   "name": "python3"
  },
  "language_info": {
   "codemirror_mode": {
    "name": "ipython",
    "version": 3
   },
   "file_extension": ".py",
   "mimetype": "text/x-python",
   "name": "python",
   "nbconvert_exporter": "python",
   "pygments_lexer": "ipython3",
   "version": "3.9.12"
  }
 },
 "nbformat": 4,
 "nbformat_minor": 5
}
